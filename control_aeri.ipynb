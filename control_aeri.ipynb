{
 "cells": [
  {
   "cell_type": "code",
   "execution_count": 1,
   "metadata": {},
   "outputs": [
    {
     "name": "stdout",
     "output_type": "stream",
     "text": [
      "Avió donat d'alta amb èxit!\n",
      "Avió donat d'alta amb èxit!\n",
      "Avió donat d'alta amb èxit!\n",
      "Avió 0: Matrícula: ABC123, PosX: 0, Altura: 0\n",
      "Avió 1: Matrícula: DEF456, PosX: 0, Altura: 0\n",
      "Avió 2: Matrícula: GHI789, PosX: 0, Altura: 0\n",
      "Avió 0: Matrícula: ABC123, PosX: 1, Altura: 0\n",
      "Avió 1: Matrícula: DEF456, PosX: 0, Altura: 1\n",
      "Avió 2: Matrícula: GHI789, PosX: 0, Altura: 0\n"
     ]
    }
   ],
   "source": [
    "class Avio:\n",
    "    def __init__(self, matricula, autonomia, capacitat_carga):\n",
    "        self.matricula = matricula\n",
    "        self.autonomia = autonomia\n",
    "        self.posX = 0\n",
    "        self.altura = 0\n",
    "        self.capacitat_carga = capacitat_carga\n",
    "\n",
    "    def modificar_posX(self, sentit):\n",
    "        if sentit == 1:\n",
    "            self.posX += 1\n",
    "        else:\n",
    "            self.posX -= 1\n",
    "\n",
    "    def modificar_altura(self, sentit):\n",
    "        if sentit:\n",
    "            self.altura += 1\n",
    "        else:\n",
    "            self.altura -= 1\n",
    "\n",
    "\n",
    "class ControladorAeri:\n",
    "    MAX_AVIONS = 3\n",
    "\n",
    "    def __init__(self):\n",
    "        self.avions = []\n",
    "\n",
    "    def donar_alta_avio(self, matricula, autonomia, capacitat_carga):\n",
    "        if len(self.avions) < self.MAX_AVIONS:\n",
    "            avio_nou = Avio(matricula, autonomia, capacitat_carga)\n",
    "            self.avions.append(avio_nou)\n",
    "            print(\"Avió donat d'alta amb èxit!\")\n",
    "        else:\n",
    "            print(\"No es poden afegir més avions, capacitat màxima assolida.\")\n",
    "\n",
    "    def moure_avio(self, index_avio, accio, direccio):\n",
    "        avio = self.avions[index_avio]\n",
    "        if accio == 1: \n",
    "            avio.modificar_posX(direccio)\n",
    "        elif accio == 2: \n",
    "            avio.modificar_altura(direccio)\n",
    "        else:\n",
    "            print(\"Acció no vàlida.\")\n",
    "\n",
    "    def imprimir_estat_avions(self):\n",
    "        for i, avio in enumerate(self.avions):\n",
    "            print(f\"Avió {i}: Matrícula: {avio.matricula}, PosX: {avio.posX}, Altura: {avio.altura}\")\n",
    "\n",
    "\n",
    "controlador = ControladorAeri()\n",
    "\n",
    "controlador.donar_alta_avio(\"ABC123\", 1000, 500)\n",
    "controlador.donar_alta_avio(\"DEF456\", 1500, 700)\n",
    "controlador.donar_alta_avio(\"GHI789\", 2000, 800)\n",
    "\n",
    "controlador.imprimir_estat_avions()\n",
    "\n",
    "controlador.moure_avio(0, 1, 1)\n",
    "controlador.moure_avio(1, 2, 1)\n",
    "\n",
    "controlador.imprimir_estat_avions()"
   ]
  }
 ],
 "metadata": {
  "kernelspec": {
   "display_name": "Python 3",
   "language": "python",
   "name": "python3"
  },
  "language_info": {
   "codemirror_mode": {
    "name": "ipython",
    "version": 3
   },
   "file_extension": ".py",
   "mimetype": "text/x-python",
   "name": "python",
   "nbconvert_exporter": "python",
   "pygments_lexer": "ipython3",
   "version": "3.11.5"
  }
 },
 "nbformat": 4,
 "nbformat_minor": 2
}
